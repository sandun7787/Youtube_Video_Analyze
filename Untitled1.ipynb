{
 "cells": [
  {
   "cell_type": "code",
   "execution_count": 2,
   "id": "5ef7ca10-0ce8-4b23-ac3a-1df634c1a668",
   "metadata": {},
   "outputs": [],
   "source": [
    "actual=[1,1,1,0,0,1,0,0,0,1,0,1,1,0,0]\n",
    "predicted=[0,1,1,0,0,1,1,0,1,1,0,1,1,0,1]"
   ]
  },
  {
   "cell_type": "code",
   "execution_count": 3,
   "id": "d302c67b-3879-4ef8-a592-4732fc273943",
   "metadata": {},
   "outputs": [
    {
     "data": {
      "text/plain": [
       "0.7333333333333333"
      ]
     },
     "execution_count": 3,
     "metadata": {},
     "output_type": "execute_result"
    }
   ],
   "source": [
    "from sklearn.metrics import accuracy_score\n",
    "accuracy_score(actual,predicted)"
   ]
  },
  {
   "cell_type": "code",
   "execution_count": 4,
   "id": "b6b5e1c8-94cd-4642-861b-7be534f4a291",
   "metadata": {},
   "outputs": [
    {
     "data": {
      "text/plain": [
       "array([[5, 3],\n",
       "       [1, 6]], dtype=int64)"
      ]
     },
     "execution_count": 4,
     "metadata": {},
     "output_type": "execute_result"
    }
   ],
   "source": [
    "from sklearn.metrics import confusion_matrix\n",
    "confusion_matrix(actual,predicted)"
   ]
  },
  {
   "cell_type": "code",
   "execution_count": 7,
   "id": "8faddc2d-ed98-4495-a9e8-1d4c02f6d867",
   "metadata": {},
   "outputs": [],
   "source": [
    "import pandas as pd\n",
    "from sklearn.metrics import classification_report\n",
    "report=pd.DataFrame(classification_report(actual,predicted,output_dict=True))"
   ]
  },
  {
   "cell_type": "code",
   "execution_count": null,
   "id": "fa61e2e1-6b98-4aa7-bedb-461a707b488d",
   "metadata": {},
   "outputs": [],
   "source": []
  }
 ],
 "metadata": {
  "kernelspec": {
   "display_name": "Python 3 (ipykernel)",
   "language": "python",
   "name": "python3"
  },
  "language_info": {
   "codemirror_mode": {
    "name": "ipython",
    "version": 3
   },
   "file_extension": ".py",
   "mimetype": "text/x-python",
   "name": "python",
   "nbconvert_exporter": "python",
   "pygments_lexer": "ipython3",
   "version": "3.12.0"
  }
 },
 "nbformat": 4,
 "nbformat_minor": 5
}
